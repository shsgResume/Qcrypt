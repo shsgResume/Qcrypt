{
 "cells": [
  {
   "cell_type": "markdown",
   "metadata": {},
   "source": [
    "### Shor's Algorithm"
   ]
  },
  {
   "cell_type": "markdown",
   "metadata": {},
   "source": [
    "RSA uses prime integer multiplication ($p, q$) to generate the encryption and decryption keys, $e, d$ of which only the encryption key $e$ are public. The ease for an intruder to listen to a message depends on the ease to obtain the other decryption integer, with the knowledge of $n=pq$.\n",
    "\n",
    "Therefore, we need to do prime integer factorization to decompose $n$ into two primes $p, q$, which we can check with the computation of the public encryption key $e$ to see if it is the one used in the encryption. If it is true, then computing $d$ goes with $d\\equiv e^{-1} (mod \\; \\lambda(n))$, where $\\lambda(n)$ is a totient function.\n",
    "\n",
    "For small prime numbers, such as $p=3, \\; q=5$. the unique solution of the factorization is easily obtained. But when the digits $p,q$ are very large, it can take thousands of years for current computers to crack the RSA encryption."
   ]
  },
  {
   "cell_type": "code",
   "execution_count": null,
   "metadata": {},
   "outputs": [],
   "source": [
    "import qiskit"
   ]
  },
  {
   "cell_type": "markdown",
   "metadata": {},
   "source": [
    "The factorization problem can be simplified into the problem of order finding, with a result from number theory as guidance\n",
    "\n",
    "\n",
    "$$\n",
    "f(a) = x^a \\; mod \\; N\n",
    "$$\n",
    "\n",
    "with $x, N$ coprime to each other. This is shown below."
   ]
  },
  {
   "cell_type": "code",
   "execution_count": null,
   "metadata": {},
   "outputs": [],
   "source": []
  }
 ],
 "metadata": {
  "language_info": {
   "name": "python"
  }
 },
 "nbformat": 4,
 "nbformat_minor": 2
}
